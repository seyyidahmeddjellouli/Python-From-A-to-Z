{
  "cells": [
    {
      "cell_type": "markdown",
      "id": "b999cf08-bd83-4443-8540-e713a930f619",
      "metadata": {
        "tags": [],
        "id": "b999cf08-bd83-4443-8540-e713a930f619"
      },
      "source": [
        "# Workshop 1"
      ]
    },
    {
      "cell_type": "markdown",
      "id": "cb70d72d-205a-401f-a875-ed817d9cb950",
      "metadata": {
        "tags": [],
        "id": "cb70d72d-205a-401f-a875-ed817d9cb950"
      },
      "source": [
        "## Introduction:"
      ]
    },
    {
      "cell_type": "markdown",
      "id": "0b914ca7-82b3-43bd-a50c-1eea03bfa698",
      "metadata": {
        "id": "0b914ca7-82b3-43bd-a50c-1eea03bfa698"
      },
      "source": [
        "The input-process-output (IPO) model is a widely used concept in computer programming, as it provides a framework for taking in data as input, processing it, and then producing some kind of output.\n",
        "\n",
        "<img src=\"data:image/png;base64,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\" width=\"50%\" height=\"50%\">\n",
        "\n",
        "During this workshop, we will utilize the built-in functions `input()` and `print()` .\n",
        "\n",
        "The `input()` function allows us to input data.\n",
        "\n",
        "Syntax:`variable = input(prompt)`\n",
        "\n",
        "Example:\n",
        "```python\n",
        "name = input(\"Enter your name:\")\n",
        "```\n",
        "\n",
        "The `print()` function allows us to display text or the value of a variable on the screen.\n",
        "\n",
        "Syntax:`print(\"string\",variable)`\n",
        "\n",
        "Example:\n",
        "```python\n",
        "print(\"Your name is: \",name)\n",
        "```"
      ]
    },
    {
      "cell_type": "markdown",
      "id": "2ec17d95-7dfc-4b30-9dc0-144c848c9964",
      "metadata": {
        "tags": [],
        "id": "2ec17d95-7dfc-4b30-9dc0-144c848c9964"
      },
      "source": [
        "## The first step\n",
        "The \"Hello World\" program is the starting point for learning how to code and it's also very easy.\n",
        "\n",
        "all you need to do is to display \"Hello World\" on the screen."
      ]
    },
    {
      "cell_type": "code",
      "execution_count": null,
      "id": "38438f3b-355f-4e3b-b397-b5ddee266864",
      "metadata": {
        "id": "38438f3b-355f-4e3b-b397-b5ddee266864",
        "outputId": "3fdc638e-96c5-4ad7-9d46-5490cbb2bc9a"
      },
      "outputs": [
        {
          "name": "stdout",
          "output_type": "stream",
          "text": [
            "hello world\n"
          ]
        }
      ],
      "source": [
        "print(\"hello world\")"
      ]
    },
    {
      "cell_type": "markdown",
      "id": "ed29be24-03e8-428d-bbbe-fd499041700b",
      "metadata": {
        "tags": [],
        "id": "ed29be24-03e8-428d-bbbe-fd499041700b"
      },
      "source": [
        "## Data types:\n",
        "\n",
        "- Python variable rules:\n",
        "    - Must begin with a letter or _\n",
        "    - Cannot start with a number\n",
        "    - Can only have alphanumeric chars & underscores (A-Z, 0-9, _)\n",
        "    - Are case-sensitive (e.g. name, Name, NAME are different variables)\n",
        "\n",
        "- We can not use the keywords of Python as a variable name. As of Python 3.8, there are 35 keywords in Python:\n",
        "``` python\n",
        "False, await, else, import, pass\n",
        "None, break, except, in, raise\n",
        "True, class, finally, is, return\n",
        "and, continue, for, lambda, try\n",
        "as, def, from, nonlocal, while\n",
        "assert, del, global, not, with\n",
        "async, elif, if, or, yield\n",
        "```"
      ]
    },
    {
      "cell_type": "code",
      "execution_count": null,
      "id": "775fb8c4-06ea-4fe8-8967-825363d8c407",
      "metadata": {
        "id": "775fb8c4-06ea-4fe8-8967-825363d8c407",
        "outputId": "d676737c-0703-4097-9111-9cfcb07f932a"
      },
      "outputs": [
        {
          "name": "stdout",
          "output_type": "stream",
          "text": [
            "\n",
            "Here is a list of the Python keywords.  Enter any keyword to get more help.\n",
            "\n",
            "False               break               for                 not\n",
            "None                class               from                or\n",
            "True                continue            global              pass\n",
            "__peg_parser__      def                 if                  raise\n",
            "and                 del                 import              return\n",
            "as                  elif                in                  try\n",
            "assert              else                is                  while\n",
            "async               except              lambda              with\n",
            "await               finally             nonlocal            yield\n",
            "\n"
          ]
        }
      ],
      "source": [
        "# We can get a list of available keywords using:\n",
        "help(\"keywords\")"
      ]
    },
    {
      "cell_type": "markdown",
      "id": "3128d69b-3f35-45c6-a984-c5b02e374248",
      "metadata": {
        "id": "3128d69b-3f35-45c6-a984-c5b02e374248"
      },
      "source": [
        "We will use the built-in function `type(variable_name)` to check variable type. "
      ]
    },
    {
      "cell_type": "markdown",
      "id": "33e9ecfd-ec80-46ba-a100-b6bfa372b82e",
      "metadata": {
        "tags": [],
        "id": "33e9ecfd-ec80-46ba-a100-b6bfa372b82e"
      },
      "source": [
        "### Integer:"
      ]
    },
    {
      "cell_type": "code",
      "execution_count": null,
      "id": "4f6f946a-38de-4a43-bd78-4dad3b6a6997",
      "metadata": {
        "id": "4f6f946a-38de-4a43-bd78-4dad3b6a6997"
      },
      "outputs": [],
      "source": [
        "num_boxs = 4"
      ]
    },
    {
      "cell_type": "code",
      "execution_count": null,
      "id": "8e1ac88e-fff1-47da-8060-891b7da34c48",
      "metadata": {
        "id": "8e1ac88e-fff1-47da-8060-891b7da34c48",
        "outputId": "d1c0e2e2-2bf0-454f-9166-3cc18c3f11b2"
      },
      "outputs": [
        {
          "data": {
            "text/plain": [
              "int"
            ]
          },
          "execution_count": 3,
          "metadata": {},
          "output_type": "execute_result"
        }
      ],
      "source": [
        "type(num_boxs)"
      ]
    },
    {
      "cell_type": "markdown",
      "id": "61ceb497-6177-42ce-81d7-b5dc7eadd65e",
      "metadata": {
        "tags": [],
        "id": "61ceb497-6177-42ce-81d7-b5dc7eadd65e"
      },
      "source": [
        "### Float:"
      ]
    },
    {
      "cell_type": "code",
      "execution_count": null,
      "id": "6d232d3a-3482-447a-bbe8-663bf34327df",
      "metadata": {
        "id": "6d232d3a-3482-447a-bbe8-663bf34327df"
      },
      "outputs": [],
      "source": [
        "temp = 37.5"
      ]
    },
    {
      "cell_type": "code",
      "execution_count": null,
      "id": "e5ef1ad9-02af-456e-a7cb-0310e1efd22a",
      "metadata": {
        "id": "e5ef1ad9-02af-456e-a7cb-0310e1efd22a",
        "outputId": "0fa743f1-9404-4b6b-9e8f-a778ca591225"
      },
      "outputs": [
        {
          "data": {
            "text/plain": [
              "float"
            ]
          },
          "execution_count": 5,
          "metadata": {},
          "output_type": "execute_result"
        }
      ],
      "source": [
        "type(temp)"
      ]
    },
    {
      "cell_type": "markdown",
      "id": "8e312847-4636-4aa4-99c7-9f8cf15b16df",
      "metadata": {
        "tags": [],
        "id": "8e312847-4636-4aa4-99c7-9f8cf15b16df"
      },
      "source": [
        "### String:"
      ]
    },
    {
      "cell_type": "code",
      "execution_count": null,
      "id": "47a528ab-5e05-4ad5-a0ea-0801f40533e0",
      "metadata": {
        "id": "47a528ab-5e05-4ad5-a0ea-0801f40533e0"
      },
      "outputs": [],
      "source": [
        "name = \"Python\""
      ]
    },
    {
      "cell_type": "code",
      "execution_count": null,
      "id": "6584b799-b78c-4d3d-a0f1-69af2be51d4c",
      "metadata": {
        "id": "6584b799-b78c-4d3d-a0f1-69af2be51d4c",
        "outputId": "2d0fdc0f-5518-41bf-8dd4-c7d643813392"
      },
      "outputs": [
        {
          "data": {
            "text/plain": [
              "str"
            ]
          },
          "execution_count": 7,
          "metadata": {},
          "output_type": "execute_result"
        }
      ],
      "source": [
        "type(name)"
      ]
    },
    {
      "cell_type": "markdown",
      "id": "cce9d1a0-2f75-4887-9be4-f9e58ed220b1",
      "metadata": {
        "id": "cce9d1a0-2f75-4887-9be4-f9e58ed220b1"
      },
      "source": [
        "### Boolean:"
      ]
    },
    {
      "cell_type": "code",
      "execution_count": null,
      "id": "5c3613c2-6ff9-48f7-9830-1d896c615fb1",
      "metadata": {
        "id": "5c3613c2-6ff9-48f7-9830-1d896c615fb1"
      },
      "outputs": [],
      "source": [
        "is_login = False"
      ]
    },
    {
      "cell_type": "code",
      "execution_count": null,
      "id": "4846f1d8-a076-4ccb-b790-341adbcfd6c0",
      "metadata": {
        "id": "4846f1d8-a076-4ccb-b790-341adbcfd6c0",
        "outputId": "0de19fdb-c116-4620-d0a2-4c806a2532c8"
      },
      "outputs": [
        {
          "data": {
            "text/plain": [
              "bool"
            ]
          },
          "execution_count": 9,
          "metadata": {},
          "output_type": "execute_result"
        }
      ],
      "source": [
        "type(is_login)"
      ]
    },
    {
      "cell_type": "markdown",
      "id": "763ca661-d03d-4b29-b6d2-1aefdff08776",
      "metadata": {
        "id": "763ca661-d03d-4b29-b6d2-1aefdff08776"
      },
      "source": [
        "### List:"
      ]
    },
    {
      "cell_type": "code",
      "execution_count": null,
      "id": "ba489326-a5ef-4a1d-8be9-d4123b4bdb4d",
      "metadata": {
        "id": "ba489326-a5ef-4a1d-8be9-d4123b4bdb4d"
      },
      "outputs": [],
      "source": [
        "todo = [\"Do something\",\"Buy something\",\"Call my Friend\"]"
      ]
    },
    {
      "cell_type": "code",
      "execution_count": null,
      "id": "f9cb0b2c-7c48-4560-b739-7266ca7f0c9e",
      "metadata": {
        "id": "f9cb0b2c-7c48-4560-b739-7266ca7f0c9e",
        "outputId": "e54a41e4-282d-41b9-c3eb-2731e823cc68"
      },
      "outputs": [
        {
          "data": {
            "text/plain": [
              "'Do something'"
            ]
          },
          "execution_count": 11,
          "metadata": {},
          "output_type": "execute_result"
        }
      ],
      "source": [
        "todo[0]"
      ]
    },
    {
      "cell_type": "code",
      "execution_count": null,
      "id": "d45eee4b-67ff-40fc-b9b5-f7f3916bac76",
      "metadata": {
        "id": "d45eee4b-67ff-40fc-b9b5-f7f3916bac76",
        "outputId": "e568eb2d-c348-4369-d077-6df1585c1f8a"
      },
      "outputs": [
        {
          "data": {
            "text/plain": [
              "list"
            ]
          },
          "execution_count": 12,
          "metadata": {},
          "output_type": "execute_result"
        }
      ],
      "source": [
        "type(todo)"
      ]
    },
    {
      "cell_type": "markdown",
      "id": "3cc1e039-96bb-4de9-a83e-63f85a3de08f",
      "metadata": {
        "id": "3cc1e039-96bb-4de9-a83e-63f85a3de08f"
      },
      "source": [
        "### Dictionary:"
      ]
    },
    {
      "cell_type": "code",
      "execution_count": null,
      "id": "b456ef1e-fbaa-4822-8e1e-9e4ad1d9e13c",
      "metadata": {
        "id": "b456ef1e-fbaa-4822-8e1e-9e4ad1d9e13c"
      },
      "outputs": [],
      "source": [
        "binary = {'one':'00','two':'01','three':'10','four':'11'}"
      ]
    },
    {
      "cell_type": "code",
      "execution_count": null,
      "id": "85847fd3-9e98-4fef-a32b-7132f5a96973",
      "metadata": {
        "id": "85847fd3-9e98-4fef-a32b-7132f5a96973",
        "outputId": "b259894d-52ee-4842-bc13-9dadba1b90d0"
      },
      "outputs": [
        {
          "data": {
            "text/plain": [
              "'00'"
            ]
          },
          "execution_count": 14,
          "metadata": {},
          "output_type": "execute_result"
        }
      ],
      "source": [
        "binary['one']"
      ]
    },
    {
      "cell_type": "code",
      "execution_count": null,
      "id": "b3f7f6e4-e9d0-4df2-8651-872839f2e4a8",
      "metadata": {
        "id": "b3f7f6e4-e9d0-4df2-8651-872839f2e4a8",
        "outputId": "9a31b7c4-666d-4df0-c1ad-a95c3c0b3b3c"
      },
      "outputs": [
        {
          "data": {
            "text/plain": [
              "dict"
            ]
          },
          "execution_count": 15,
          "metadata": {},
          "output_type": "execute_result"
        }
      ],
      "source": [
        "type(binary)"
      ]
    },
    {
      "cell_type": "markdown",
      "id": "65b0a971-8233-409e-b6ee-bcd65427e9c1",
      "metadata": {
        "id": "65b0a971-8233-409e-b6ee-bcd65427e9c1"
      },
      "source": [
        "- The diffrent between list and dict:\n",
        "| List | Dictionary |\n",
        "| --- | --- |\n",
        "| index value pair | key-value pairs. |\n",
        "| List is initialized with \\[\\], and elements are separated by ','. | Dictionary is created by placing elements in {}, data is added as key-value pair, and each pair is separated by ','. |\n",
        "| List values can be accessed by numeric indexes. | Dictionary items can be accessed by using key values. Key values can be of any data type. |\n",
        "| The order of elements in the list can be modified | We can't edit the order of dictionary elements. |\n",
        "| allows duplicate values. | doesn't allow duplicate values with the same key in it. |"
      ]
    },
    {
      "cell_type": "markdown",
      "id": "44d2fdd6-426a-4c6c-952c-1c65080bd540",
      "metadata": {
        "tags": [],
        "id": "44d2fdd6-426a-4c6c-952c-1c65080bd540"
      },
      "source": [
        "## Python Operators:\n",
        "Operators are used to perform operations on variables and values."
      ]
    },
    {
      "cell_type": "markdown",
      "id": "1cc09fb4-8a50-4297-9775-04056a9f0463",
      "metadata": {
        "id": "1cc09fb4-8a50-4297-9775-04056a9f0463"
      },
      "source": [
        "In python there are many groups of operators:\n",
        "- Arithmetic operators\n",
        "- Assignment operators\n",
        "- Comparison operators\n",
        "- Logical operators\n",
        "- Membership operators"
      ]
    },
    {
      "cell_type": "markdown",
      "id": "431d8e89-2a79-4237-b8e4-272c74160e5e",
      "metadata": {
        "id": "431d8e89-2a79-4237-b8e4-272c74160e5e"
      },
      "source": [
        "### Arithmetic operators"
      ]
    },
    {
      "cell_type": "code",
      "execution_count": null,
      "id": "4c3c9944-656b-44e2-9fe7-77b4ee964269",
      "metadata": {
        "id": "4c3c9944-656b-44e2-9fe7-77b4ee964269"
      },
      "outputs": [],
      "source": [
        "x= int(input(\"Enter the first number: \"))\n",
        "y= int(input(\"Enter the second number: \"))\n",
        "\n",
        "\n",
        "# Addition\n",
        "result = x + y\n",
        "print(\"result is: \",result)\n",
        "\n",
        "# Subtraction\n",
        "result = x - y\n",
        "print(\"result is: \",result)\n",
        "\n",
        "# Multiplication\n",
        "result = x * y\n",
        "print(\"result is: \",result)\n",
        "\n",
        "# Division\n",
        "result = x / y\n",
        "print(\"result is: \",result)\n",
        "\n",
        "# Modulus\n",
        "result = x % y\n",
        "print(\"result is: \",result)\n",
        "\n",
        "# Exponentiation\n",
        "result = x ** y\n",
        "print(\"result is: \",result)\n",
        "\n",
        "# Floor division\n",
        "result = x // y\n",
        "print(\"result is: \",result)"
      ]
    },
    {
      "cell_type": "markdown",
      "id": "6f7e19d9-2ffb-4c8c-b5a2-65537b089364",
      "metadata": {
        "id": "6f7e19d9-2ffb-4c8c-b5a2-65537b089364"
      },
      "source": [
        "### Assignment operators"
      ]
    },
    {
      "cell_type": "code",
      "execution_count": null,
      "id": "79747aeb-f74c-404b-b8da-892646b002fb",
      "metadata": {
        "id": "79747aeb-f74c-404b-b8da-892646b002fb",
        "outputId": "2d6a5f5b-8f19-42d1-fd77-c79d9f6c36e1"
      },
      "outputs": [
        {
          "name": "stdin",
          "output_type": "stream",
          "text": [
            "Enter a number:  3\n"
          ]
        },
        {
          "name": "stdout",
          "output_type": "stream",
          "text": [
            "result is:  0\n",
            "result is:  3\n",
            "result is:  9\n",
            "result is:  6\n"
          ]
        }
      ],
      "source": [
        "x = int(input(\"Enter a number: \"))\n",
        "#operator (=) \n",
        "result = 0\n",
        "print(\"result is: \",result)\n",
        "\n",
        "#operator (+=)\tsame as(result = result + 3)\n",
        "result += x\n",
        "print(\"result is: \",result)\n",
        "\n",
        "#operator (*=)\tsame as(result = result * 3)\n",
        "result *= x\n",
        "print(\"result is: \",result)\n",
        "\n",
        "#operator (-=)\tsame as(result = result - 3)\n",
        "result -= x\n",
        "print(\"result is: \",result)"
      ]
    },
    {
      "cell_type": "markdown",
      "id": "90b6a8d7-fee9-4edc-8c91-37ae3a7adc35",
      "metadata": {
        "id": "90b6a8d7-fee9-4edc-8c91-37ae3a7adc35"
      },
      "source": [
        "### Comparison operators\n",
        "Used to compare two values:"
      ]
    },
    {
      "cell_type": "code",
      "execution_count": null,
      "id": "f3358eef-eb37-42aa-8c3c-71702a625e98",
      "metadata": {
        "id": "f3358eef-eb37-42aa-8c3c-71702a625e98",
        "outputId": "b0c2abdb-e23f-4290-9272-0c7e37244906"
      },
      "outputs": [
        {
          "name": "stdin",
          "output_type": "stream",
          "text": [
            "Enter the first number:  7\n",
            "Enter the second number:  4\n"
          ]
        },
        {
          "name": "stdout",
          "output_type": "stream",
          "text": [
            "False\n",
            "True\n",
            "True\n",
            "False\n",
            "True\n",
            "False\n"
          ]
        }
      ],
      "source": [
        "x= int(input(\"Enter the first number: \"))\n",
        "y= int(input(\"Enter the second number: \"))\n",
        "\n",
        "# Equal\n",
        "print(x == y)\n",
        "\n",
        "# Not equal\n",
        "print(x != y)\n",
        "\n",
        "# Greater than\n",
        "print(x > y)\n",
        "\n",
        "# Less than\n",
        "print(x < y)\n",
        "\n",
        "# Greater than or equal to\n",
        "print(x >= y)\n",
        "\n",
        "# Less than or equal to\n",
        "print(x <= y)"
      ]
    },
    {
      "cell_type": "markdown",
      "id": "2740f1ef-aee3-403c-a20c-8f0ab059f895",
      "metadata": {
        "id": "2740f1ef-aee3-403c-a20c-8f0ab059f895"
      },
      "source": [
        "### Logical operators\n",
        "Used to combine conditional statements"
      ]
    },
    {
      "cell_type": "code",
      "execution_count": null,
      "id": "79c0da4e-fbe9-4fff-9c87-6084735c8c20",
      "metadata": {
        "id": "79c0da4e-fbe9-4fff-9c87-6084735c8c20",
        "outputId": "84b74702-a5b3-41e0-db5f-30a20ea482e8"
      },
      "outputs": [
        {
          "name": "stdin",
          "output_type": "stream",
          "text": [
            "Enter a number:  9\n"
          ]
        },
        {
          "name": "stdout",
          "output_type": "stream",
          "text": [
            "True\n",
            "False\n",
            "True\n"
          ]
        }
      ],
      "source": [
        "x= int(input(\"Enter a number: \"))\n",
        "\n",
        "# operator (and)\n",
        "# Returns True if both statements are true\n",
        "print(x > 5 and  x < 10)\n",
        "\n",
        "# operator (or)\n",
        "# Returns True if one of the statements is true\n",
        "print(x == 7 or  x == 8)\n",
        "\n",
        "# operator (not)\n",
        "# Reverse the result, returns False if the result is true\n",
        "print(not x < 5)"
      ]
    },
    {
      "cell_type": "markdown",
      "id": "9cada705-c0b5-4f59-9b6b-d8930c5d3bef",
      "metadata": {
        "id": "9cada705-c0b5-4f59-9b6b-d8930c5d3bef"
      },
      "source": [
        "### Membership operators\n",
        "Used to test if a sequence is presented in an object"
      ]
    },
    {
      "cell_type": "code",
      "execution_count": null,
      "id": "b02465af-8392-47d9-8db1-7c01ad6c6b61",
      "metadata": {
        "id": "b02465af-8392-47d9-8db1-7c01ad6c6b61",
        "outputId": "988f915b-b00f-46d3-9d35-ed653c80fcb1"
      },
      "outputs": [
        {
          "name": "stdin",
          "output_type": "stream",
          "text": [
            "Enter a number:  7\n"
          ]
        },
        {
          "name": "stdout",
          "output_type": "stream",
          "text": [
            "False\n",
            "True\n"
          ]
        }
      ],
      "source": [
        "x= int(input(\"Enter a number: \"))\n",
        "print(x in [1,2,3,4,5])\n",
        "print(x not in [1,2,3,4,5])"
      ]
    },
    {
      "cell_type": "markdown",
      "id": "2a1f7f4b-3382-47ba-8d4f-179ab3001b9e",
      "metadata": {
        "jp-MarkdownHeadingCollapsed": true,
        "tags": [],
        "id": "2a1f7f4b-3382-47ba-8d4f-179ab3001b9e"
      },
      "source": [
        "There is more advanced operators like: \n",
        "- Identity Operators (used to compare the objects)\n",
        "- Bitwise operators (used to compare (binary) numbers)"
      ]
    },
    {
      "cell_type": "markdown",
      "id": "2516e179-3875-4936-a908-7e21250c10e9",
      "metadata": {
        "id": "2516e179-3875-4936-a908-7e21250c10e9"
      },
      "source": [
        "## Python Conditions statements"
      ]
    },
    {
      "cell_type": "markdown",
      "id": "f0a53154-0646-4e1a-9580-b5c75cdddac0",
      "metadata": {
        "id": "f0a53154-0646-4e1a-9580-b5c75cdddac0"
      },
      "source": [
        "### IF statement"
      ]
    },
    {
      "cell_type": "markdown",
      "id": "68bc0d41-54eb-4f55-a558-dd9a0868b340",
      "metadata": {
        "id": "68bc0d41-54eb-4f55-a558-dd9a0868b340"
      },
      "source": [
        "Indentation in Python is used to define blocks of code and control the flow of execution within the code.\n",
        "\n",
        "It is a visual way of grouping statements and differentiating code blocks."
      ]
    },
    {
      "cell_type": "code",
      "execution_count": null,
      "id": "af0ccc40-074f-4bf1-8a36-69b0611f8872",
      "metadata": {
        "id": "af0ccc40-074f-4bf1-8a36-69b0611f8872",
        "outputId": "88a28eba-ee30-4d18-db83-86a5b20894e5"
      },
      "outputs": [
        {
          "name": "stdin",
          "output_type": "stream",
          "text": [
            "Enter data:  6\n"
          ]
        },
        {
          "name": "stdout",
          "output_type": "stream",
          "text": [
            "Result: 6\n",
            "Greater than or equal to 5\n"
          ]
        }
      ],
      "source": [
        "# Input data\n",
        "data = input(\"Enter data: \")\n",
        "\n",
        "# Process data\n",
        "result = int(data)\n",
        "\n",
        "# Output data\n",
        "print(\"Result:\", result)\n",
        "\n",
        "# Conditional statement\n",
        "if result < 5:\n",
        "    # Indented code block\n",
        "    print(\"Less than 5\")\n",
        "else:\n",
        "    # Another indented code block\n",
        "    print(\"Greater than or equal to 5\")"
      ]
    },
    {
      "cell_type": "markdown",
      "id": "44f1ebea-6094-4120-8176-8b08aea076df",
      "metadata": {
        "id": "44f1ebea-6094-4120-8176-8b08aea076df"
      },
      "source": [
        "![Hello World](data:image/png;base64,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)"
      ]
    },
    {
      "cell_type": "code",
      "execution_count": null,
      "id": "0e87dc2f-a95c-4511-aa77-9864d3ea3665",
      "metadata": {
        "id": "0e87dc2f-a95c-4511-aa77-9864d3ea3665",
        "outputId": "9d94cfa7-15b1-4d54-e164-0285f6d5ff52",
        "colab": {
          "base_uri": "https://localhost:8080/"
        }
      },
      "outputs": [
        {
          "output_type": "stream",
          "name": "stdout",
          "text": [
            "Enter data: 7\n",
            "Result: 7\n",
            "Greater than 5\n"
          ]
        }
      ],
      "source": [
        "# Input data\n",
        "data = input(\"Enter data: \")\n",
        "\n",
        "# Process data\n",
        "result = int(data)\n",
        "\n",
        "# Output data\n",
        "print(\"Result:\", result)\n",
        "\n",
        "# Conditional statement\n",
        "if result < 5:\n",
        "    # Indented code block\n",
        "    print(\"Less than 5\")\n",
        "else:\n",
        "    if result == 5:\n",
        "        # second indented code block\n",
        "        print(\"equal to 5\")\n",
        "    else:\n",
        "        # third indented code block\n",
        "        print(\"Greater than 5\")"
      ]
    },
    {
      "cell_type": "markdown",
      "id": "72d533d6-ab32-4d66-86e3-ebde1e81936b",
      "metadata": {
        "id": "72d533d6-ab32-4d66-86e3-ebde1e81936b"
      },
      "source": [
        "![Hello World](data:image/png;base64,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)"
      ]
    },
    {
      "cell_type": "markdown",
      "id": "3b027315-8fba-4d25-be37-e4ab7084062d",
      "metadata": {
        "id": "3b027315-8fba-4d25-be37-e4ab7084062d"
      },
      "source": [
        "### How to Implement Switch Statements with the `match` and `case`"
      ]
    },
    {
      "cell_type": "code",
      "execution_count": null,
      "id": "ac45f5fa-1b75-4ead-988a-3b7c0c776246",
      "metadata": {
        "id": "ac45f5fa-1b75-4ead-988a-3b7c0c776246"
      },
      "outputs": [],
      "source": [
        "number = input(\"Enter a value between 0 and 5\")\n",
        "\n",
        "match number:\n",
        "    case 0:\n",
        "        print(\"The number you entered is zero\")\n",
        "\n",
        "    case 1:\n",
        "        print(\"The number you entered is one\")\n",
        "\n",
        "    case 2:\n",
        "        print(\"The number you entered is two\")\n",
        "    \n",
        "    case 3:\n",
        "        print(\"The number you entered is three\")\n",
        "\n",
        "    case 4:\n",
        "        print(\"The number you entered is four\")\n",
        "\n",
        "    case 5:\n",
        "        print(\"The number you entered is five\")\n",
        "\n",
        "    case _:\n",
        "        print(\"The number does not belong to the range 0 to 5\")"
      ]
    },
    {
      "cell_type": "markdown",
      "source": [
        "For loop"
      ],
      "metadata": {
        "id": "6wiVqic5glfc"
      },
      "id": "6wiVqic5glfc"
    },
    {
      "cell_type": "code",
      "source": [
        "# table of 5\n",
        "number = 5\n",
        "for i in range(1 , 10):\n",
        "  print(i, ' * ', number , ' = ' ,number * i)"
      ],
      "metadata": {
        "colab": {
          "base_uri": "https://localhost:8080/"
        },
        "id": "irlaPDU9mvCV",
        "outputId": "7ac6afa4-3777-4d81-8a11-2c16c78a47d1"
      },
      "id": "irlaPDU9mvCV",
      "execution_count": null,
      "outputs": [
        {
          "output_type": "stream",
          "name": "stdout",
          "text": [
            "1  *  5  =  5\n",
            "2  *  5  =  10\n",
            "3  *  5  =  15\n",
            "4  *  5  =  20\n",
            "5  *  5  =  25\n",
            "6  *  5  =  30\n",
            "7  *  5  =  35\n",
            "8  *  5  =  40\n",
            "9  *  5  =  45\n"
          ]
        }
      ]
    },
    {
      "cell_type": "markdown",
      "source": [
        "while loop"
      ],
      "metadata": {
        "id": "Q60uMbe-saXt"
      },
      "id": "Q60uMbe-saXt"
    },
    {
      "cell_type": "code",
      "source": [
        "number = 5\n",
        "i=1\n",
        "while i<10:\n",
        "  print(i, ' * ', number , ' = ' ,number * i)\n",
        "  i+=1"
      ],
      "metadata": {
        "colab": {
          "base_uri": "https://localhost:8080/"
        },
        "id": "mOkdLQ8AscLT",
        "outputId": "fcb70890-8c05-452b-a522-f90aad926522"
      },
      "id": "mOkdLQ8AscLT",
      "execution_count": null,
      "outputs": [
        {
          "output_type": "stream",
          "name": "stdout",
          "text": [
            "1  *  5  =  5\n",
            "2  *  5  =  10\n",
            "3  *  5  =  15\n",
            "4  *  5  =  20\n",
            "5  *  5  =  25\n",
            "6  *  5  =  30\n",
            "7  *  5  =  35\n",
            "8  *  5  =  40\n",
            "9  *  5  =  45\n"
          ]
        }
      ]
    },
    {
      "cell_type": "code",
      "source": [
        "password = '123@pass'\n",
        "data = ''\n",
        "while password != data:\n",
        "  data = input('Enter the password:')\n",
        "print('Logged in successfully')"
      ],
      "metadata": {
        "colab": {
          "base_uri": "https://localhost:8080/"
        },
        "id": "oMtoYfIy9oA7",
        "outputId": "74a6f725-0fef-406f-dcf2-8d10e2eaba5e"
      },
      "id": "oMtoYfIy9oA7",
      "execution_count": null,
      "outputs": [
        {
          "output_type": "stream",
          "name": "stdout",
          "text": [
            "Enter the password:\"\"\"\n",
            "Enter the password:&é\"\n",
            "Enter the password:123@pass\n",
            "Logged in successfully\n"
          ]
        }
      ]
    },
    {
      "cell_type": "code",
      "source": [
        "def mult(number):\n",
        "  print('table of: ', number)\n",
        "  for i in range(1 , 10):\n",
        "    print(i, ' * ', number , ' = ' ,number * i)\n"
      ],
      "metadata": {
        "id": "4EbKPnhmujV8"
      },
      "id": "4EbKPnhmujV8",
      "execution_count": null,
      "outputs": []
    },
    {
      "cell_type": "code",
      "source": [
        "mult(6)\n"
      ],
      "metadata": {
        "id": "-ZRmbPtTzgdM",
        "colab": {
          "base_uri": "https://localhost:8080/"
        },
        "outputId": "3ef242f3-fe7d-49fa-ed1b-1a96d81dd067"
      },
      "id": "-ZRmbPtTzgdM",
      "execution_count": null,
      "outputs": [
        {
          "output_type": "stream",
          "name": "stdout",
          "text": [
            "table of:  6\n",
            "1  *  6  =  6\n",
            "2  *  6  =  12\n",
            "3  *  6  =  18\n",
            "4  *  6  =  24\n",
            "5  *  6  =  30\n",
            "6  *  6  =  36\n",
            "7  *  6  =  42\n",
            "8  *  6  =  48\n",
            "9  *  6  =  54\n"
          ]
        }
      ]
    },
    {
      "cell_type": "code",
      "source": [],
      "metadata": {
        "id": "pQH0Mq_m_XyZ"
      },
      "id": "pQH0Mq_m_XyZ",
      "execution_count": null,
      "outputs": []
    }
  ],
  "metadata": {
    "kernelspec": {
      "display_name": "Python 3 (ipykernel)",
      "language": "python",
      "name": "python3"
    },
    "language_info": {
      "codemirror_mode": {
        "name": "ipython",
        "version": 3
      },
      "file_extension": ".py",
      "mimetype": "text/x-python",
      "name": "python",
      "nbconvert_exporter": "python",
      "pygments_lexer": "ipython3",
      "version": "3.9.13"
    },
    "colab": {
      "provenance": []
    }
  },
  "nbformat": 4,
  "nbformat_minor": 5
}